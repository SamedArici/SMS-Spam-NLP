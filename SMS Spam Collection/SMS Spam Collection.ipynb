{
 "cells": [
  {
   "cell_type": "markdown",
   "id": "eff16dc8",
   "metadata": {},
   "source": [
    "## Importing Libraries and Dataset"
   ]
  },
  {
   "cell_type": "code",
   "execution_count": 138,
   "id": "1bdb2b2d",
   "metadata": {},
   "outputs": [],
   "source": [
    "import pandas as pd\n",
    "import numpy as np\n",
    "import matplotlib.pyplot as plt\n",
    "%matplotlib inline\n",
    "import seaborn as sns\n",
    "sns.set_style('whitegrid')"
   ]
  },
  {
   "cell_type": "code",
   "execution_count": 139,
   "id": "202776c0",
   "metadata": {},
   "outputs": [],
   "source": [
    "import nltk\n",
    "from nltk.corpus import stopwords\n",
    "from nltk.stem.porter import PorterStemmer\n",
    "import re"
   ]
  },
  {
   "cell_type": "code",
   "execution_count": 140,
   "id": "c5938260",
   "metadata": {},
   "outputs": [],
   "source": [
    "dataset = pd.read_csv('SMSSpamCollection',sep='\\t',names = ['label','message'])"
   ]
  },
  {
   "cell_type": "code",
   "execution_count": 141,
   "id": "e7b67b95",
   "metadata": {},
   "outputs": [
    {
     "data": {
      "text/html": [
       "<div>\n",
       "<style scoped>\n",
       "    .dataframe tbody tr th:only-of-type {\n",
       "        vertical-align: middle;\n",
       "    }\n",
       "\n",
       "    .dataframe tbody tr th {\n",
       "        vertical-align: top;\n",
       "    }\n",
       "\n",
       "    .dataframe thead th {\n",
       "        text-align: right;\n",
       "    }\n",
       "</style>\n",
       "<table border=\"1\" class=\"dataframe\">\n",
       "  <thead>\n",
       "    <tr style=\"text-align: right;\">\n",
       "      <th></th>\n",
       "      <th>label</th>\n",
       "      <th>message</th>\n",
       "    </tr>\n",
       "  </thead>\n",
       "  <tbody>\n",
       "    <tr>\n",
       "      <th>0</th>\n",
       "      <td>ham</td>\n",
       "      <td>Go until jurong point, crazy.. Available only ...</td>\n",
       "    </tr>\n",
       "    <tr>\n",
       "      <th>1</th>\n",
       "      <td>ham</td>\n",
       "      <td>Ok lar... Joking wif u oni...</td>\n",
       "    </tr>\n",
       "    <tr>\n",
       "      <th>2</th>\n",
       "      <td>spam</td>\n",
       "      <td>Free entry in 2 a wkly comp to win FA Cup fina...</td>\n",
       "    </tr>\n",
       "    <tr>\n",
       "      <th>3</th>\n",
       "      <td>ham</td>\n",
       "      <td>U dun say so early hor... U c already then say...</td>\n",
       "    </tr>\n",
       "    <tr>\n",
       "      <th>4</th>\n",
       "      <td>ham</td>\n",
       "      <td>Nah I don't think he goes to usf, he lives aro...</td>\n",
       "    </tr>\n",
       "  </tbody>\n",
       "</table>\n",
       "</div>"
      ],
      "text/plain": [
       "  label                                            message\n",
       "0   ham  Go until jurong point, crazy.. Available only ...\n",
       "1   ham                      Ok lar... Joking wif u oni...\n",
       "2  spam  Free entry in 2 a wkly comp to win FA Cup fina...\n",
       "3   ham  U dun say so early hor... U c already then say...\n",
       "4   ham  Nah I don't think he goes to usf, he lives aro..."
      ]
     },
     "execution_count": 141,
     "metadata": {},
     "output_type": "execute_result"
    }
   ],
   "source": [
    "dataset.head()"
   ]
  },
  {
   "cell_type": "markdown",
   "id": "e38c219a",
   "metadata": {},
   "source": [
    "### Encoding label Column"
   ]
  },
  {
   "cell_type": "code",
   "execution_count": 142,
   "id": "cbb3b70f",
   "metadata": {},
   "outputs": [],
   "source": [
    "from sklearn.preprocessing import LabelEncoder\n",
    "le = LabelEncoder()\n",
    "dataset['label'] = le.fit_transform(dataset['label'])"
   ]
  },
  {
   "cell_type": "markdown",
   "id": "47087b9a",
   "metadata": {},
   "source": [
    "## Visualizing"
   ]
  },
  {
   "cell_type": "code",
   "execution_count": 143,
   "id": "450e4386",
   "metadata": {},
   "outputs": [
    {
     "data": {
      "image/png": "[encoded data removed]",
      "text/plain": [
       "<Figure size 432x288 with 1 Axes>"
      ]
     },
     "metadata": {},
     "output_type": "display_data"
    }
   ],
   "source": [
    "dataset['label'].value_counts().plot.pie(labels = ['Ham','Spam'],autopct = \"%.1f%%\", startangle = 60,\n",
    "                                     radius = 1.2,textprops={'fontsize': 16},cmap = 'tab20_r')\n",
    "plt.show()"
   ]
  },
  {
   "cell_type": "code",
   "execution_count": 161,
   "id": "c65d4ea0",
   "metadata": {},
   "outputs": [
    {
     "data": {
      "image/png": "[encoded data removed]",
      "text/plain": [
       "<Figure size 576x288 with 1 Axes>"
      ]
     },
     "metadata": {},
     "output_type": "display_data"
    }
   ],
   "source": [
    "dataset['Len'] = dataset['message'].apply(len) # Adding 'Len' column to show the length of reviews\n",
    "\n",
    "plt.figure(figsize = (8,4))\n",
    "sns.histplot(x = 'Len',data = dataset,hue = 'label')\n",
    "plt.xlabel('Lenght of Messages',size = 14)\n",
    "plt.ylabel('Count',size = 14)\n",
    "plt.xticks(size = 12)\n",
    "plt.yticks(size = 12)\n",
    "plt.show()\n",
    "\n",
    "dataset.drop('Len',axis = 1,inplace = True) # Removing the 'Len' column"
   ]
  },
  {
   "cell_type": "markdown",
   "id": "1db7972e",
   "metadata": {},
   "source": [
    "## Download Stopwords"
   ]
  },
  {
   "cell_type": "code",
   "execution_count": 145,
   "id": "c90fd5fc",
   "metadata": {},
   "outputs": [
    {
     "name": "stderr",
     "output_type": "stream",
     "text": [
      "[nltk_data] Downloading package stopwords to\n",
      "[nltk_data]     C:\\Users\\samet\\AppData\\Roaming\\nltk_data...\n",
      "[nltk_data]   Package stopwords is already up-to-date!\n"
     ]
    },
    {
     "data": {
      "text/plain": [
       "True"
      ]
     },
     "execution_count": 145,
     "metadata": {},
     "output_type": "execute_result"
    }
   ],
   "source": [
    "nltk.download('stopwords')"
   ]
  },
  {
   "cell_type": "markdown",
   "id": "f0a5e835",
   "metadata": {},
   "source": [
    "## Create Stopwords and PorterStemmer"
   ]
  },
  {
   "cell_type": "code",
   "execution_count": 146,
   "id": "ffd2a14a",
   "metadata": {},
   "outputs": [],
   "source": [
    "ps = PorterStemmer()\n",
    "all_stopwords = stopwords.words('english')\n",
    "all_stopwords.remove('not')"
   ]
  },
  {
   "cell_type": "markdown",
   "id": "f27de53c",
   "metadata": {},
   "source": [
    "## Cleaning the Labels"
   ]
  },
  {
   "cell_type": "code",
   "execution_count": 147,
   "id": "61546ce0",
   "metadata": {},
   "outputs": [],
   "source": [
    "corpus = []\n",
    "\n",
    "for i in range(0,len(dataset)):\n",
    "    message = re.sub('[^a-zA-Z]',' ',dataset['message'][i])\n",
    "    message = message.lower()\n",
    "    message = message.split()\n",
    "    message = [ps.stem(word) for word in message if not word in set(all_stopwords)]\n",
    "    message = ' '.join(message)\n",
    "    corpus.append(message)"
   ]
  },
  {
   "cell_type": "markdown",
   "id": "5d974982",
   "metadata": {},
   "source": [
    "## Creating the Bag of Words Model"
   ]
  },
  {
   "cell_type": "code",
   "execution_count": 148,
   "id": "2f0640b6",
   "metadata": {},
   "outputs": [],
   "source": [
    "from sklearn.feature_extraction.text import CountVectorizer\n",
    "cv = CountVectorizer()\n",
    "x = cv.fit_transform(corpus).toarray()\n",
    "y = dataset.iloc[:,0].values"
   ]
  },
  {
   "cell_type": "markdown",
   "id": "82f48b4a",
   "metadata": {},
   "source": [
    "## Split the Data into the Train set and Test set"
   ]
  },
  {
   "cell_type": "code",
   "execution_count": 149,
   "id": "30ad8f67",
   "metadata": {},
   "outputs": [],
   "source": [
    "from sklearn.model_selection import train_test_split\n",
    "x_train,x_test,y_train,y_test = train_test_split(x,y,test_size = 0.3,random_state=0)"
   ]
  },
  {
   "cell_type": "markdown",
   "id": "52baef65",
   "metadata": {},
   "source": [
    "## Creating Machine Learning Models"
   ]
  },
  {
   "cell_type": "code",
   "execution_count": 150,
   "id": "0ddf8272",
   "metadata": {},
   "outputs": [],
   "source": [
    "def calculate_scores(y_pred,algorithmName):\n",
    "    global df_result,index\n",
    "    \n",
    "    from sklearn.metrics import confusion_matrix,accuracy_score,precision_score,recall_score\n",
    "    \n",
    "    tn, fp, fn, tp = confusion_matrix(y_test,y_pred).ravel()\n",
    "    acc = accuracy_score(y_test,y_pred).round(3)\n",
    "    precision = precision_score(y_test,y_pred).round(3)\n",
    "    recall = recall_score(y_test,y_pred).round(3)\n",
    "    \n",
    "    d = {'classifier':[algorithmName],'accuracy':[acc],'precision':[precision],'recall':[recall],'true positive':[tp],\n",
    "         'true negative':[tn],'false positive':[fp],'false negative':[fn]}\n",
    "    new_df = pd.DataFrame(data = d,index = [index])\n",
    "    df_result = pd.concat([df_result,new_df])\n",
    "    index += 1"
   ]
  },
  {
   "cell_type": "markdown",
   "id": "1e556f79",
   "metadata": {},
   "source": [
    "### Random Forest"
   ]
  },
  {
   "cell_type": "code",
   "execution_count": 151,
   "id": "3eecf3d8",
   "metadata": {},
   "outputs": [],
   "source": [
    "def random_forest():\n",
    "    from sklearn.ensemble import RandomForestClassifier\n",
    "    rfc = RandomForestClassifier(criterion='entropy',n_estimators = 100).fit(x_train,y_train)\n",
    "    y_pred = rfc.predict(x_test)\n",
    "    calculate_scores(y_pred,'Random Forest')"
   ]
  },
  {
   "cell_type": "markdown",
   "id": "1badf192",
   "metadata": {},
   "source": [
    "### Decision Tree"
   ]
  },
  {
   "cell_type": "code",
   "execution_count": 152,
   "id": "30b01834",
   "metadata": {},
   "outputs": [],
   "source": [
    "def decision_tree():\n",
    "    from sklearn.tree import DecisionTreeClassifier\n",
    "    dtc = DecisionTreeClassifier(criterion='entropy').fit(x_train,y_train)\n",
    "    y_pred = dtc.predict(x_test)\n",
    "    calculate_scores(y_pred,'Decision Tree')"
   ]
  },
  {
   "cell_type": "markdown",
   "id": "cadbdc0b",
   "metadata": {},
   "source": [
    "### K Nearest Neighbors"
   ]
  },
  {
   "cell_type": "code",
   "execution_count": 153,
   "id": "9dc10fb1",
   "metadata": {},
   "outputs": [],
   "source": [
    "def knn():\n",
    "    from sklearn.neighbors import KNeighborsClassifier\n",
    "    knn = KNeighborsClassifier(n_neighbors=13).fit(x_train,y_train)\n",
    "    y_pred = knn.predict(x_test)\n",
    "    calculate_scores(y_pred,'KNN')"
   ]
  },
  {
   "cell_type": "markdown",
   "id": "7b8b1a4c",
   "metadata": {},
   "source": [
    "### Naive Bayes"
   ]
  },
  {
   "cell_type": "code",
   "execution_count": 154,
   "id": "d58e050c",
   "metadata": {},
   "outputs": [],
   "source": [
    "def naive_bayes():\n",
    "    from sklearn.naive_bayes import GaussianNB\n",
    "    classifier = GaussianNB().fit(x_train,y_train)\n",
    "    y_pred = classifier.predict(x_test)\n",
    "    calculate_scores(y_pred,'Naive Bayes')"
   ]
  },
  {
   "cell_type": "markdown",
   "id": "7ce3c9b9",
   "metadata": {},
   "source": [
    "### Multilayer Perceptron"
   ]
  },
  {
   "cell_type": "code",
   "execution_count": 155,
   "id": "7763663a",
   "metadata": {},
   "outputs": [],
   "source": [
    "def mlp():\n",
    "    from sklearn.neural_network import MLPClassifier\n",
    "    mlp = MLPClassifier(early_stopping=True,batch_size=64).fit(x_train,y_train)\n",
    "    y_pred = mlp.predict(x_test)\n",
    "    calculate_scores(y_pred,'MLP')"
   ]
  },
  {
   "cell_type": "markdown",
   "id": "bdb18854",
   "metadata": {},
   "source": [
    "### Logistic Regression"
   ]
  },
  {
   "cell_type": "code",
   "execution_count": 156,
   "id": "8d8e5a32",
   "metadata": {},
   "outputs": [],
   "source": [
    "def logistic_reg():\n",
    "    from sklearn.linear_model import LogisticRegression\n",
    "    lr = LogisticRegression().fit(x_train,y_train)\n",
    "    y_pred = lr.predict(x_test)\n",
    "    calculate_scores(y_pred,'Logistic Regression')"
   ]
  },
  {
   "cell_type": "markdown",
   "id": "0422bf5c",
   "metadata": {},
   "source": [
    "## Result"
   ]
  },
  {
   "cell_type": "code",
   "execution_count": 157,
   "id": "5d104196",
   "metadata": {},
   "outputs": [
    {
     "name": "stdout",
     "output_type": "stream",
     "text": [
      "1/6\n",
      "2/6\n",
      "3/6\n",
      "4/6\n",
      "5/6\n",
      "6/6\n"
     ]
    },
    {
     "data": {
      "text/html": [
       "<div>\n",
       "<style scoped>\n",
       "    .dataframe tbody tr th:only-of-type {\n",
       "        vertical-align: middle;\n",
       "    }\n",
       "\n",
       "    .dataframe tbody tr th {\n",
       "        vertical-align: top;\n",
       "    }\n",
       "\n",
       "    .dataframe thead th {\n",
       "        text-align: right;\n",
       "    }\n",
       "</style>\n",
       "<table border=\"1\" class=\"dataframe\">\n",
       "  <thead>\n",
       "    <tr style=\"text-align: right;\">\n",
       "      <th></th>\n",
       "      <th>classifier</th>\n",
       "      <th>accuracy</th>\n",
       "      <th>precision</th>\n",
       "      <th>recall</th>\n",
       "      <th>true positive</th>\n",
       "      <th>true negative</th>\n",
       "      <th>false positive</th>\n",
       "      <th>false negative</th>\n",
       "    </tr>\n",
       "  </thead>\n",
       "  <tbody>\n",
       "    <tr>\n",
       "      <th>5</th>\n",
       "      <td>MLP</td>\n",
       "      <td>0.985</td>\n",
       "      <td>0.995</td>\n",
       "      <td>0.891</td>\n",
       "      <td>197</td>\n",
       "      <td>1450</td>\n",
       "      <td>1</td>\n",
       "      <td>24</td>\n",
       "    </tr>\n",
       "    <tr>\n",
       "      <th>6</th>\n",
       "      <td>Logistic Regression</td>\n",
       "      <td>0.982</td>\n",
       "      <td>0.985</td>\n",
       "      <td>0.878</td>\n",
       "      <td>194</td>\n",
       "      <td>1448</td>\n",
       "      <td>3</td>\n",
       "      <td>27</td>\n",
       "    </tr>\n",
       "    <tr>\n",
       "      <th>1</th>\n",
       "      <td>Random Forest</td>\n",
       "      <td>0.978</td>\n",
       "      <td>0.995</td>\n",
       "      <td>0.837</td>\n",
       "      <td>185</td>\n",
       "      <td>1450</td>\n",
       "      <td>1</td>\n",
       "      <td>36</td>\n",
       "    </tr>\n",
       "    <tr>\n",
       "      <th>2</th>\n",
       "      <td>Decision Tree</td>\n",
       "      <td>0.974</td>\n",
       "      <td>0.928</td>\n",
       "      <td>0.869</td>\n",
       "      <td>192</td>\n",
       "      <td>1436</td>\n",
       "      <td>15</td>\n",
       "      <td>29</td>\n",
       "    </tr>\n",
       "    <tr>\n",
       "      <th>3</th>\n",
       "      <td>KNN</td>\n",
       "      <td>0.890</td>\n",
       "      <td>1.000</td>\n",
       "      <td>0.167</td>\n",
       "      <td>37</td>\n",
       "      <td>1451</td>\n",
       "      <td>0</td>\n",
       "      <td>184</td>\n",
       "    </tr>\n",
       "    <tr>\n",
       "      <th>4</th>\n",
       "      <td>Naive Bayes</td>\n",
       "      <td>0.864</td>\n",
       "      <td>0.493</td>\n",
       "      <td>0.900</td>\n",
       "      <td>199</td>\n",
       "      <td>1246</td>\n",
       "      <td>205</td>\n",
       "      <td>22</td>\n",
       "    </tr>\n",
       "  </tbody>\n",
       "</table>\n",
       "</div>"
      ],
      "text/plain": [
       "            classifier  accuracy  precision  recall  true positive  \\\n",
       "5                  MLP     0.985      0.995   0.891            197   \n",
       "6  Logistic Regression     0.982      0.985   0.878            194   \n",
       "1        Random Forest     0.978      0.995   0.837            185   \n",
       "2        Decision Tree     0.974      0.928   0.869            192   \n",
       "3                  KNN     0.890      1.000   0.167             37   \n",
       "4          Naive Bayes     0.864      0.493   0.900            199   \n",
       "\n",
       "   true negative  false positive  false negative  \n",
       "5           1450               1              24  \n",
       "6           1448               3              27  \n",
       "1           1450               1              36  \n",
       "2           1436              15              29  \n",
       "3           1451               0             184  \n",
       "4           1246             205              22  "
      ]
     },
     "execution_count": 157,
     "metadata": {},
     "output_type": "execute_result"
    }
   ],
   "source": [
    "df_result = pd.DataFrame()\n",
    "index = 1\n",
    "functions = [random_forest,decision_tree,knn,naive_bayes,mlp,logistic_reg]\n",
    "for function in functions:\n",
    "    print(f'{index}/{len(functions)}')\n",
    "    function()\n",
    "     \n",
    "df_result.sort_values(by = 'accuracy',ascending=False)"
   ]
  }
 ],
 "metadata": {
  "kernelspec": {
   "display_name": "Python 3 (ipykernel)",
   "language": "python",
   "name": "python3"
  },
  "language_info": {
   "codemirror_mode": {
    "name": "ipython",
    "version": 3
   },
   "file_extension": ".py",
   "mimetype": "text/x-python",
   "name": "python",
   "nbconvert_exporter": "python",
   "pygments_lexer": "ipython3",
   "version": "3.9.12"
  }
 },
 "nbformat": 4,
 "nbformat_minor": 5
}
